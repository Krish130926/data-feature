{
  "nbformat": 4,
  "nbformat_minor": 0,
  "metadata": {
    "colab": {
      "provenance": [],
      "authorship_tag": "ABX9TyNWQNKAVN8HuE8Wo7zyEi5U",
      "include_colab_link": true
    },
    "kernelspec": {
      "name": "python3",
      "display_name": "Python 3"
    },
    "language_info": {
      "name": "python"
    }
  },
  "cells": [
    {
      "cell_type": "markdown",
      "metadata": {
        "id": "view-in-github",
        "colab_type": "text"
      },
      "source": [
        "<a href=\"https://colab.research.google.com/github/Krish130926/data-feature/blob/main/DataFeature_KrishSharma.ipynb\" target=\"_parent\"><img src=\"https://colab.research.google.com/assets/colab-badge.svg\" alt=\"Open In Colab\"/></a>"
      ]
    },
    {
      "cell_type": "code",
      "execution_count": 6,
      "metadata": {
        "colab": {
          "base_uri": "https://localhost:8080/"
        },
        "id": "mAF9s2xji5nr",
        "outputId": "64a369e3-ba48-40fe-a721-591753ea3a3e"
      },
      "outputs": [
        {
          "output_type": "stream",
          "name": "stdout",
          "text": [
            "Enter a city: london\n",
            "The weather in london is currently: Light Rain, Rain\n",
            "Fetching indoor events...\n",
            "Found 30 GitHub events:\n",
            "Event: PushEvent by stoltegg\n",
            "Repo: scamsniffer/SiteWatcher\n",
            "Event: DeleteEvent by dev-mend-for-github-com[bot]\n",
            "Repo: TankOrgDev/nifi-1.4.0\n",
            "Event: PushEvent by AdrianEdelen\n",
            "Repo: AdrianEdelen/school_notes\n"
          ]
        }
      ],
      "source": [
        "import requests\n",
        "\n",
        "# Weatherstack API setup\n",
        "WEATHERSTACK_API_KEY = 'e7f55bd207b259e8666797385ed72c49'\n",
        "\n",
        "# Function to get weather data from Weatherstack\n",
        "def get_weather(location):\n",
        "    url = f\"http://api.weatherstack.com/current?access_key={WEATHERSTACK_API_KEY}&query={location}\"\n",
        "    response = requests.get(url)\n",
        "\n",
        "    if response.status_code == 200:\n",
        "        data = response.json()\n",
        "        if 'error' in data:\n",
        "            print(f\"Error from API: {data['error']['info']}\")\n",
        "            return None\n",
        "        if 'current' in data:\n",
        "            weather_condition = data['current']['weather_descriptions'][0]\n",
        "            return weather_condition\n",
        "        else:\n",
        "            print(\"Weather data not found. Please check the location.\")\n",
        "            return None\n",
        "    else:\n",
        "        print(f\"Failed to retrieve weather data. Status code: {response.status_code}\")\n",
        "        return None\n",
        "\n",
        "# GitHub Events API (for demonstration purposes)\n",
        "def get_github_events():\n",
        "    url = \"https://api.github.com/events\"\n",
        "    response = requests.get(url)\n",
        "\n",
        "    if response.status_code == 200:\n",
        "        events = response.json()\n",
        "        return events\n",
        "    else:\n",
        "        print(f\"Failed to retrieve GitHub events. Status code: {response.status_code}\")\n",
        "        return []\n",
        "\n",
        "# Function to display GitHub events\n",
        "def display_github_events(events):\n",
        "    if events:\n",
        "        print(f\"Found {len(events)} GitHub events:\")\n",
        "        for event in events[:3]:  # Display 3 events\n",
        "            print(f\"Event: {event['type']} by {event['actor']['login']}\")\n",
        "            print(f\"Repo: {event['repo']['name']}\")\n",
        "    else:\n",
        "        print(\"No events found.\")\n",
        "\n",
        "# Main function to get weather and events\n",
        "def get_weather_and_events(location):\n",
        "    weather = get_weather(location)\n",
        "    if weather:\n",
        "        print(f\"The weather in {location} is currently: {weather}\")\n",
        "\n",
        "        # Logic to fetch events based on weather\n",
        "        if \"Clear\" in weather or \"Sunny\" in weather:\n",
        "            print(\"Fetching outdoor events...\")\n",
        "            events = get_github_events()\n",
        "        else:\n",
        "            print(\"Fetching indoor events...\")\n",
        "            events = get_github_events()\n",
        "\n",
        "        display_github_events(events)\n",
        "    else:\n",
        "        print(\"No weather information available for this location.\")\n",
        "\n",
        "# Test the functionality\n",
        "location = input(\"Enter a city: \")\n",
        "get_weather_and_events(location)"
      ]
    }
  ]
}